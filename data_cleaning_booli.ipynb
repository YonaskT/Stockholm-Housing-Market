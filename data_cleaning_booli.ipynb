{
 "cells": [
  {
   "cell_type": "markdown",
   "id": "0487a810",
   "metadata": {},
   "source": [
    "### Data Cleaning"
   ]
  },
  {
   "cell_type": "markdown",
   "id": "083ea05d",
   "metadata": {},
   "source": [
    "The following will be done in this data cleaning stage\n",
    "\n",
    "- check/handle for missing values\n",
    "- check/handle for duplicates\n",
    "- identify/handle possible outliers.\n",
    "\n",
    "In order to store the file in a database, data has to be cleaned first as the data types needs to be formatted appropriately.\n",
    "\n",
    "The dataset has more than 18000 records."
   ]
  },
  {
   "cell_type": "markdown",
   "id": "d7b58d5a",
   "metadata": {},
   "source": [
    "#### Imports Packages and Libraries"
   ]
  },
  {
   "cell_type": "code",
   "execution_count": 1,
   "id": "b6a3b302",
   "metadata": {},
   "outputs": [],
   "source": [
    "import numpy as np\n",
    "import pandas as pd \n",
    "from bs4 import BeautifulSoup\n",
    "import matplotlib.pyplot as plt\n",
    "import requests"
   ]
  },
  {
   "cell_type": "code",
   "execution_count": 2,
   "id": "1a878557",
   "metadata": {},
   "outputs": [
    {
     "data": {
      "text/plain": [
       "'1.24.3'"
      ]
     },
     "execution_count": 2,
     "metadata": {},
     "output_type": "execute_result"
    }
   ],
   "source": [
    " np.__version__"
   ]
  },
  {
   "cell_type": "code",
   "execution_count": 2,
   "id": "b8f82b59",
   "metadata": {},
   "outputs": [],
   "source": [
    "#suppress scientific notation by setting float_format\n",
    "pd.options.display.float_format = '{:.2f}'.format "
   ]
  },
  {
   "cell_type": "code",
   "execution_count": 152,
   "id": "41e01a90",
   "metadata": {},
   "outputs": [],
   "source": [
    "# to import n/a fields as a string rather than NaN\n",
    "booli_df=pd.read_csv('booli_data.csv',keep_default_na=False)"
   ]
  },
  {
   "cell_type": "code",
   "execution_count": 153,
   "id": "b98e39f4",
   "metadata": {},
   "outputs": [
    {
     "data": {
      "text/plain": [
       "(18616, 8)"
      ]
     },
     "execution_count": 153,
     "metadata": {},
     "output_type": "execute_result"
    }
   ],
   "source": [
    "booli_df.shape"
   ]
  },
  {
   "cell_type": "code",
   "execution_count": 7,
   "id": "47de6f14",
   "metadata": {},
   "outputs": [
    {
     "name": "stdout",
     "output_type": "stream",
     "text": [
      "<class 'pandas.core.frame.DataFrame'>\n",
      "RangeIndex: 18616 entries, 0 to 18615\n",
      "Data columns (total 8 columns):\n",
      " #   Column        Non-Null Count  Dtype \n",
      "---  ------        --------------  ----- \n",
      " 0   Address       18616 non-null  object\n",
      " 1   Location      18616 non-null  object\n",
      " 2   Price         18616 non-null  object\n",
      " 3   Boolis_price  18616 non-null  object\n",
      " 4   Description   18616 non-null  object\n",
      " 5   Floor         18616 non-null  object\n",
      " 6   Features      18616 non-null  object\n",
      " 7   Year_built    18616 non-null  object\n",
      "dtypes: object(8)\n",
      "memory usage: 1.1+ MB\n"
     ]
    }
   ],
   "source": [
    "booli_df.info()"
   ]
  },
  {
   "cell_type": "markdown",
   "id": "914d4796",
   "metadata": {},
   "source": [
    "### Check Missing Values"
   ]
  },
  {
   "cell_type": "code",
   "execution_count": 5,
   "id": "e3f738e6",
   "metadata": {},
   "outputs": [
    {
     "data": {
      "text/html": [
       "<div>\n",
       "<style scoped>\n",
       "    .dataframe tbody tr th:only-of-type {\n",
       "        vertical-align: middle;\n",
       "    }\n",
       "\n",
       "    .dataframe tbody tr th {\n",
       "        vertical-align: top;\n",
       "    }\n",
       "\n",
       "    .dataframe thead th {\n",
       "        text-align: right;\n",
       "    }\n",
       "</style>\n",
       "<table border=\"1\" class=\"dataframe\">\n",
       "  <thead>\n",
       "    <tr style=\"text-align: right;\">\n",
       "      <th></th>\n",
       "      <th>Address</th>\n",
       "      <th>Location</th>\n",
       "      <th>Price</th>\n",
       "      <th>Boolis_price</th>\n",
       "      <th>Description</th>\n",
       "      <th>Floor</th>\n",
       "      <th>Features</th>\n",
       "      <th>Year_built</th>\n",
       "    </tr>\n",
       "  </thead>\n",
       "  <tbody>\n",
       "  </tbody>\n",
       "</table>\n",
       "</div>"
      ],
      "text/plain": [
       "Empty DataFrame\n",
       "Columns: [Address, Location, Price, Boolis_price, Description, Floor, Features, Year_built]\n",
       "Index: []"
      ]
     },
     "execution_count": 5,
     "metadata": {},
     "output_type": "execute_result"
    }
   ],
   "source": [
    "# Check for missing values in any of the columns\n",
    "booli_df[booli_df.isna().any(axis=1)]"
   ]
  },
  {
   "cell_type": "markdown",
   "id": "5defe0df",
   "metadata": {},
   "source": [
    "Looks like there was no missing values in all the features.However, after digging deeper in to the dataframe we can see some records have 'Pris saknas' ,'n/a, which means price missing as well 'n/a in the 'Floor_nr' column. The records with missing values will be handled later."
   ]
  },
  {
   "cell_type": "code",
   "execution_count": 154,
   "id": "228da3de",
   "metadata": {},
   "outputs": [
    {
     "data": {
      "text/html": [
       "<div>\n",
       "<style scoped>\n",
       "    .dataframe tbody tr th:only-of-type {\n",
       "        vertical-align: middle;\n",
       "    }\n",
       "\n",
       "    .dataframe tbody tr th {\n",
       "        vertical-align: top;\n",
       "    }\n",
       "\n",
       "    .dataframe thead th {\n",
       "        text-align: right;\n",
       "    }\n",
       "</style>\n",
       "<table border=\"1\" class=\"dataframe\">\n",
       "  <thead>\n",
       "    <tr style=\"text-align: right;\">\n",
       "      <th></th>\n",
       "      <th>Address</th>\n",
       "      <th>Location</th>\n",
       "      <th>Price</th>\n",
       "      <th>Boolis_price</th>\n",
       "      <th>Description</th>\n",
       "      <th>Floor</th>\n",
       "      <th>Features</th>\n",
       "      <th>Year_built</th>\n",
       "    </tr>\n",
       "  </thead>\n",
       "  <tbody>\n",
       "    <tr>\n",
       "      <th>9</th>\n",
       "      <td>Sysslomansgatan 11</td>\n",
       "      <td>Kungsholmen,Stockholm</td>\n",
       "      <td>Pris saknas</td>\n",
       "      <td>3930000kr</td>\n",
       "      <td>Boarea38 m²Rum1½ rumAvgift2 279 kr/mån</td>\n",
       "      <td>våning 6 av 7</td>\n",
       "      <td>HissBalkong</td>\n",
       "      <td>1608</td>\n",
       "    </tr>\n",
       "    <tr>\n",
       "      <th>10</th>\n",
       "      <td>Vega Allé 94</td>\n",
       "      <td>Vega,Haninge</td>\n",
       "      <td>Pris saknas</td>\n",
       "      <td>4120000kr</td>\n",
       "      <td>Boarea93 m²Rum4 rumAvgift6 720 kr/månByggår2019</td>\n",
       "      <td>våning 4 av 6</td>\n",
       "      <td>HissBalkong</td>\n",
       "      <td>2019</td>\n",
       "    </tr>\n",
       "    <tr>\n",
       "      <th>12</th>\n",
       "      <td>Tavelsjövägen 20</td>\n",
       "      <td>Årsta,Stockholm</td>\n",
       "      <td>Pris saknas</td>\n",
       "      <td>3330000kr</td>\n",
       "      <td>Boarea58 m²Rum2 rumAvgift4 567 kr/mån</td>\n",
       "      <td>våning 1 av 3</td>\n",
       "      <td>n/a</td>\n",
       "      <td>44</td>\n",
       "    </tr>\n",
       "    <tr>\n",
       "      <th>13</th>\n",
       "      <td>Skarpövägen 19</td>\n",
       "      <td>Orminge,Nacka</td>\n",
       "      <td>Pris saknas</td>\n",
       "      <td>1670000kr</td>\n",
       "      <td>Boarea37 m²Rum1½ rumAvgift2 193 kr/mån</td>\n",
       "      <td>våning 2 av 5</td>\n",
       "      <td>HissBalkong</td>\n",
       "      <td>1202</td>\n",
       "    </tr>\n",
       "    <tr>\n",
       "      <th>14</th>\n",
       "      <td>Diligensvägen 92</td>\n",
       "      <td>Jarlaberg,Nacka</td>\n",
       "      <td>Pris saknas</td>\n",
       "      <td>4920000kr</td>\n",
       "      <td>Boarea122 m²Rum4 rumAvgift10 780 kr/månByggår1989</td>\n",
       "      <td>1989</td>\n",
       "      <td>BalkongUteplats</td>\n",
       "      <td>38</td>\n",
       "    </tr>\n",
       "    <tr>\n",
       "      <th>...</th>\n",
       "      <td>...</td>\n",
       "      <td>...</td>\n",
       "      <td>...</td>\n",
       "      <td>...</td>\n",
       "      <td>...</td>\n",
       "      <td>...</td>\n",
       "      <td>...</td>\n",
       "      <td>...</td>\n",
       "    </tr>\n",
       "    <tr>\n",
       "      <th>18611</th>\n",
       "      <td>Borgågatan</td>\n",
       "      <td>Akalla,Stockholm</td>\n",
       "      <td>Pris saknas</td>\n",
       "      <td>2060000kr</td>\n",
       "      <td>Boarea73 m²Rum3 rum</td>\n",
       "      <td>2635</td>\n",
       "      <td>n/a</td>\n",
       "      <td>Förväntat slutpris</td>\n",
       "    </tr>\n",
       "    <tr>\n",
       "      <th>18612</th>\n",
       "      <td>Bråvallagatan 5</td>\n",
       "      <td>Vasastan Birkastan,Stockholm</td>\n",
       "      <td>Pris saknas</td>\n",
       "      <td>4500000kr</td>\n",
       "      <td>Boarea43 m²Rum1 rumAvgift2 089 kr/månByggår1927</td>\n",
       "      <td>våning 1 av 5</td>\n",
       "      <td>Hiss</td>\n",
       "      <td>1927</td>\n",
       "    </tr>\n",
       "    <tr>\n",
       "      <th>18613</th>\n",
       "      <td>Nykarlebygatan</td>\n",
       "      <td>Akalla Trädgårdsstaden,Stockholm</td>\n",
       "      <td>Pris saknas</td>\n",
       "      <td>1520000kr</td>\n",
       "      <td>Boarea42 m²Rum1 rum</td>\n",
       "      <td>3349</td>\n",
       "      <td>n/a</td>\n",
       "      <td>Förväntat slutpris</td>\n",
       "    </tr>\n",
       "    <tr>\n",
       "      <th>18614</th>\n",
       "      <td>Sveavägen 89</td>\n",
       "      <td>Vasastan,Stockholm</td>\n",
       "      <td>Pris saknas</td>\n",
       "      <td>8950000kr</td>\n",
       "      <td>Boarea80 m²Rum3 rumAvgift3 200 kr/månByggår1926</td>\n",
       "      <td>våning 2 av 5</td>\n",
       "      <td>HissBalkong</td>\n",
       "      <td>1926</td>\n",
       "    </tr>\n",
       "    <tr>\n",
       "      <th>18615</th>\n",
       "      <td>Erik Segersälls väg 5</td>\n",
       "      <td>Aspudden,Stockholm</td>\n",
       "      <td>Pris saknas</td>\n",
       "      <td>9250000kr</td>\n",
       "      <td>Boarea100 m²Rum4 rum</td>\n",
       "      <td>3375</td>\n",
       "      <td>n/a</td>\n",
       "      <td>Förväntat slutpris</td>\n",
       "    </tr>\n",
       "  </tbody>\n",
       "</table>\n",
       "<p>10320 rows × 8 columns</p>\n",
       "</div>"
      ],
      "text/plain": [
       "                     Address                          Location        Price  \\\n",
       "9         Sysslomansgatan 11             Kungsholmen,Stockholm  Pris saknas   \n",
       "10              Vega Allé 94                      Vega,Haninge  Pris saknas   \n",
       "12          Tavelsjövägen 20                   Årsta,Stockholm  Pris saknas   \n",
       "13            Skarpövägen 19                     Orminge,Nacka  Pris saknas   \n",
       "14          Diligensvägen 92                   Jarlaberg,Nacka  Pris saknas   \n",
       "...                      ...                               ...          ...   \n",
       "18611             Borgågatan                  Akalla,Stockholm  Pris saknas   \n",
       "18612        Bråvallagatan 5      Vasastan Birkastan,Stockholm  Pris saknas   \n",
       "18613         Nykarlebygatan  Akalla Trädgårdsstaden,Stockholm  Pris saknas   \n",
       "18614           Sveavägen 89                Vasastan,Stockholm  Pris saknas   \n",
       "18615  Erik Segersälls väg 5                Aspudden,Stockholm  Pris saknas   \n",
       "\n",
       "      Boolis_price                                        Description  \\\n",
       "9        3930000kr             Boarea38 m²Rum1½ rumAvgift2 279 kr/mån   \n",
       "10       4120000kr    Boarea93 m²Rum4 rumAvgift6 720 kr/månByggår2019   \n",
       "12       3330000kr              Boarea58 m²Rum2 rumAvgift4 567 kr/mån   \n",
       "13       1670000kr             Boarea37 m²Rum1½ rumAvgift2 193 kr/mån   \n",
       "14       4920000kr  Boarea122 m²Rum4 rumAvgift10 780 kr/månByggår1989   \n",
       "...            ...                                                ...   \n",
       "18611    2060000kr                                Boarea73 m²Rum3 rum   \n",
       "18612    4500000kr    Boarea43 m²Rum1 rumAvgift2 089 kr/månByggår1927   \n",
       "18613    1520000kr                                Boarea42 m²Rum1 rum   \n",
       "18614    8950000kr    Boarea80 m²Rum3 rumAvgift3 200 kr/månByggår1926   \n",
       "18615    9250000kr                               Boarea100 m²Rum4 rum   \n",
       "\n",
       "               Floor         Features          Year_built  \n",
       "9      våning 6 av 7      HissBalkong                1608  \n",
       "10     våning 4 av 6      HissBalkong                2019  \n",
       "12     våning 1 av 3              n/a                  44  \n",
       "13     våning 2 av 5      HissBalkong                1202  \n",
       "14              1989  BalkongUteplats                  38  \n",
       "...              ...              ...                 ...  \n",
       "18611           2635              n/a  Förväntat slutpris  \n",
       "18612  våning 1 av 5             Hiss                1927  \n",
       "18613           3349              n/a  Förväntat slutpris  \n",
       "18614  våning 2 av 5      HissBalkong                1926  \n",
       "18615           3375              n/a  Förväntat slutpris  \n",
       "\n",
       "[10320 rows x 8 columns]"
      ]
     },
     "execution_count": 154,
     "metadata": {},
     "output_type": "execute_result"
    }
   ],
   "source": [
    "booli_df.loc[booli_df['Price']=='Pris saknas']"
   ]
  },
  {
   "cell_type": "markdown",
   "id": "ea67f4f9",
   "metadata": {},
   "source": [
    "### Check for Duplicates"
   ]
  },
  {
   "cell_type": "code",
   "execution_count": 6,
   "id": "1234dbb7",
   "metadata": {},
   "outputs": [
    {
     "data": {
      "text/plain": [
       "29"
      ]
     },
     "execution_count": 6,
     "metadata": {},
     "output_type": "execute_result"
    }
   ],
   "source": [
    "len(booli_df[booli_df.duplicated()])"
   ]
  },
  {
   "cell_type": "markdown",
   "id": "ab2bd8c5",
   "metadata": {},
   "source": [
    "There were 29 observation with a duplicated entry that needs to be removed. "
   ]
  },
  {
   "cell_type": "code",
   "execution_count": 155,
   "id": "0dc9d653",
   "metadata": {},
   "outputs": [
    {
     "data": {
      "text/plain": [
       "(18587, 8)"
      ]
     },
     "execution_count": 155,
     "metadata": {},
     "output_type": "execute_result"
    }
   ],
   "source": [
    "booli_df=booli_df.drop_duplicates(ignore_index=True)\n",
    "booli_df.shape"
   ]
  },
  {
   "cell_type": "markdown",
   "id": "522acfdf",
   "metadata": {},
   "source": [
    "We can still see the datatype for the columns are wrong. It needs to be changed to the proper data type format in order to make it database readable readable"
   ]
  },
  {
   "cell_type": "markdown",
   "id": "48050d2e",
   "metadata": {},
   "source": [
    "### Change Column Data Types and Transformation"
   ]
  },
  {
   "cell_type": "markdown",
   "id": "50a7127a",
   "metadata": {},
   "source": [
    "### 1. Price"
   ]
  },
  {
   "cell_type": "markdown",
   "id": "45ee9786",
   "metadata": {},
   "source": [
    "Let's check which records have Price information 'Pris saknas' which means price missing."
   ]
  },
  {
   "cell_type": "code",
   "execution_count": 8,
   "id": "76b9ee05",
   "metadata": {},
   "outputs": [
    {
     "data": {
      "text/plain": [
       "10305"
      ]
     },
     "execution_count": 8,
     "metadata": {},
     "output_type": "execute_result"
    }
   ],
   "source": [
    "len(booli_df[booli_df['Price']=='Pris saknas'])"
   ]
  },
  {
   "cell_type": "markdown",
   "id": "58d37c42",
   "metadata": {},
   "source": [
    "There were three records with missing price information, so these two records will be removed as it is not helpful for the goal of the project."
   ]
  },
  {
   "cell_type": "code",
   "execution_count": 156,
   "id": "8716f3a1",
   "metadata": {},
   "outputs": [
    {
     "data": {
      "text/plain": [
       "0"
      ]
     },
     "execution_count": 156,
     "metadata": {},
     "output_type": "execute_result"
    }
   ],
   "source": [
    "booli_df['Price'] = booli_df.apply(lambda row: row['Boolis_price'] if row['Price'] == 'Pris saknas' else row['Price'], axis=1).reset_index(drop=True)\n",
    "len(booli_df[booli_df['Price']=='Pris saknas'])"
   ]
  },
  {
   "cell_type": "markdown",
   "id": "8862cf56",
   "metadata": {},
   "source": [
    "Remove 'kr' from the price column using .str.replace() method and in some records the price information is recorded as 'fr  '."
   ]
  },
  {
   "cell_type": "code",
   "execution_count": 157,
   "id": "ce819e3c",
   "metadata": {},
   "outputs": [],
   "source": [
    "# Use a regular expression to remove both 'kr' and 'fr. ' in a single step\n",
    "booli_df['Price'] = booli_df['Price'].str.replace(r'kr|fr\\. ', '', regex=True)"
   ]
  },
  {
   "cell_type": "code",
   "execution_count": 158,
   "id": "647088c5",
   "metadata": {},
   "outputs": [
    {
     "data": {
      "text/plain": [
       "63"
      ]
     },
     "execution_count": 158,
     "metadata": {},
     "output_type": "execute_result"
    }
   ],
   "source": [
    "len(booli_df.loc[booli_df['Price']=='n/a'])"
   ]
  },
  {
   "cell_type": "code",
   "execution_count": 159,
   "id": "a0e90928",
   "metadata": {},
   "outputs": [
    {
     "data": {
      "text/plain": [
       "(18524, 8)"
      ]
     },
     "execution_count": 159,
     "metadata": {},
     "output_type": "execute_result"
    }
   ],
   "source": [
    "booli_df=booli_df[booli_df['Price']!='n/a']\n",
    "booli_df.shape"
   ]
  },
  {
   "cell_type": "code",
   "execution_count": 160,
   "id": "d1247aa9",
   "metadata": {},
   "outputs": [
    {
     "data": {
      "text/plain": [
       "0"
      ]
     },
     "execution_count": 160,
     "metadata": {},
     "output_type": "execute_result"
    }
   ],
   "source": [
    "len(booli_df[booli_df['Price'].isna()])"
   ]
  },
  {
   "cell_type": "code",
   "execution_count": 161,
   "id": "558f0786",
   "metadata": {},
   "outputs": [],
   "source": [
    "booli_df.dropna(subset=['Price'],inplace=True)"
   ]
  },
  {
   "cell_type": "code",
   "execution_count": 162,
   "id": "a1e09aad",
   "metadata": {},
   "outputs": [
    {
     "data": {
      "text/plain": [
       "count      18524.00\n",
       "mean     3643393.21\n",
       "std      2498348.18\n",
       "min       350000.00\n",
       "25%      2150000.00\n",
       "50%      2995000.00\n",
       "75%      4295000.00\n",
       "max     65600000.00\n",
       "Name: Price, dtype: float64"
      ]
     },
     "execution_count": 162,
     "metadata": {},
     "output_type": "execute_result"
    }
   ],
   "source": [
    "booli_df['Price'] = pd.to_numeric(booli_df['Price'])\n",
    "booli_df['Price'].describe()"
   ]
  },
  {
   "cell_type": "markdown",
   "id": "3dfea11f",
   "metadata": {},
   "source": [
    "### 2. Boolis_price"
   ]
  },
  {
   "cell_type": "code",
   "execution_count": 163,
   "id": "980f9a1e",
   "metadata": {},
   "outputs": [],
   "source": [
    "booli_df['Boolis_price'] = booli_df['Boolis_price'].str.replace(r'kr|fr\\. ', '', regex=True)"
   ]
  },
  {
   "cell_type": "code",
   "execution_count": 164,
   "id": "a1235d88",
   "metadata": {},
   "outputs": [
    {
     "data": {
      "text/plain": [
       "0"
      ]
     },
     "execution_count": 164,
     "metadata": {},
     "output_type": "execute_result"
    }
   ],
   "source": [
    "len(booli_df[booli_df['Boolis_price'].isna()])"
   ]
  },
  {
   "cell_type": "code",
   "execution_count": 165,
   "id": "d884449a",
   "metadata": {},
   "outputs": [],
   "source": [
    "booli_df.dropna(subset=['Boolis_price'],inplace=True)"
   ]
  },
  {
   "cell_type": "code",
   "execution_count": 166,
   "id": "319caae8",
   "metadata": {},
   "outputs": [
    {
     "data": {
      "text/plain": [
       "764"
      ]
     },
     "execution_count": 166,
     "metadata": {},
     "output_type": "execute_result"
    }
   ],
   "source": [
    "len(booli_df.loc[booli_df['Boolis_price']=='n/a'])"
   ]
  },
  {
   "cell_type": "code",
   "execution_count": 167,
   "id": "c1f62b51",
   "metadata": {},
   "outputs": [
    {
     "data": {
      "text/plain": [
       "(17760, 8)"
      ]
     },
     "execution_count": 167,
     "metadata": {},
     "output_type": "execute_result"
    }
   ],
   "source": [
    "booli_df=booli_df[booli_df['Boolis_price']!='n/a']\n",
    "booli_df.shape"
   ]
  },
  {
   "cell_type": "code",
   "execution_count": null,
   "id": "d9fa0fe4",
   "metadata": {},
   "outputs": [],
   "source": []
  },
  {
   "cell_type": "code",
   "execution_count": 168,
   "id": "34472a96",
   "metadata": {},
   "outputs": [
    {
     "data": {
      "text/plain": [
       "count      17760.00\n",
       "mean     3662149.77\n",
       "std      2404089.90\n",
       "min       280000.00\n",
       "25%      2200000.00\n",
       "50%      3020000.00\n",
       "75%      4320000.00\n",
       "max     65600000.00\n",
       "Name: Boolis_price, dtype: float64"
      ]
     },
     "execution_count": 168,
     "metadata": {},
     "output_type": "execute_result"
    }
   ],
   "source": [
    "booli_df['Boolis_price'] = pd.to_numeric(booli_df['Boolis_price'])\n",
    "booli_df['Boolis_price'].describe()"
   ]
  },
  {
   "cell_type": "markdown",
   "id": "5781dfd1",
   "metadata": {},
   "source": [
    " Trying to Change the datatype to float will result in a number of errors. The following steps has to be performed before we are able to change the datatype"
   ]
  },
  {
   "cell_type": "markdown",
   "id": "41e06431",
   "metadata": {},
   "source": [
    "### Floor"
   ]
  },
  {
   "cell_type": "markdown",
   "id": "cd3f2ef0",
   "metadata": {},
   "source": [
    " Trying to Change the datatype to float will result in a number of errors. The following steps has to be performed before we are able to change the datatype"
   ]
  },
  {
   "cell_type": "code",
   "execution_count": 169,
   "id": "eb4ef848",
   "metadata": {},
   "outputs": [
    {
     "name": "stdout",
     "output_type": "stream",
     "text": [
      "                     Address                          Location    Price  \\\n",
      "0               Lindvägen 4G              Norrviken,Sollentuna  1895000   \n",
      "1             Idunslingan 29                   Skälby,Järfälla  3495000   \n",
      "2           Viksängsvägen 26             Östertälje,Södertälje  3450000   \n",
      "3        Knypplerskevägen 12                  Bromma,Stockholm  2250000   \n",
      "4           Nysättravägen 19              Brunnsäng,Södertälje  1850000   \n",
      "...                      ...                               ...      ...   \n",
      "18582             Borgågatan                  Akalla,Stockholm  2060000   \n",
      "18583        Bråvallagatan 5      Vasastan Birkastan,Stockholm  4500000   \n",
      "18584         Nykarlebygatan  Akalla Trädgårdsstaden,Stockholm  1520000   \n",
      "18585           Sveavägen 89                Vasastan,Stockholm  8950000   \n",
      "18586  Erik Segersälls väg 5                Aspudden,Stockholm  9250000   \n",
      "\n",
      "       Boolis_price                                      Description   Floor  \\\n",
      "0           1960000  Boarea34 m²Rum1 rumAvgift2 613 kr/månByggår2017    1.00   \n",
      "1           3600000  Boarea75 m²Rum3 rumAvgift4 139 kr/månByggår2023    4.00   \n",
      "2           2790000                             Boarea111 m²Rum4 rum    0.00   \n",
      "3           2440000  Boarea42 m²Rum2 rumAvgift3 937 kr/månByggår1942    2.00   \n",
      "4           1810000           Boarea78½ m²Rum3 rumAvgift5 658 kr/mån    9.00   \n",
      "...             ...                                              ...     ...   \n",
      "18582       2060000                              Boarea73 m²Rum3 rum 2635.00   \n",
      "18583       4500000  Boarea43 m²Rum1 rumAvgift2 089 kr/månByggår1927    1.00   \n",
      "18584       1520000                              Boarea42 m²Rum1 rum 3349.00   \n",
      "18585       8950000  Boarea80 m²Rum3 rumAvgift3 200 kr/månByggår1926    2.00   \n",
      "18586       9250000                             Boarea100 m²Rum4 rum 3375.00   \n",
      "\n",
      "          Features          Year_built  \n",
      "0         Uteplats                2017  \n",
      "1      HissBalkong                1302  \n",
      "2              n/a  Förväntat slutpris  \n",
      "3              n/a                1942  \n",
      "4      HissBalkong                   3  \n",
      "...            ...                 ...  \n",
      "18582          n/a  Förväntat slutpris  \n",
      "18583         Hiss                1927  \n",
      "18584          n/a  Förväntat slutpris  \n",
      "18585  HissBalkong                1926  \n",
      "18586          n/a  Förväntat slutpris  \n",
      "\n",
      "[17760 rows x 8 columns]\n"
     ]
    }
   ],
   "source": [
    "import re\n",
    "# Function to extract the first numeric element\n",
    "def extract_first_number(text):\n",
    "    match = re.search(r'\\d+', text)\n",
    "    return int(match.group()) if match else None\n",
    "\n",
    "# Apply the function to the column\n",
    "booli_df['Floor'] = booli_df['Floor'].apply(extract_first_number)\n",
    "\n",
    "print(booli_df)"
   ]
  },
  {
   "cell_type": "code",
   "execution_count": 171,
   "id": "b48acd04",
   "metadata": {},
   "outputs": [
    {
     "data": {
      "text/plain": [
       "dtype('O')"
      ]
     },
     "execution_count": 171,
     "metadata": {},
     "output_type": "execute_result"
    }
   ],
   "source": [
    "booli_df['Floor']=booli_df['Floor'].astype(str)\n",
    "booli_df.Floor.dtype"
   ]
  },
  {
   "cell_type": "code",
   "execution_count": 172,
   "id": "ddb4fd10",
   "metadata": {},
   "outputs": [
    {
     "name": "stdout",
     "output_type": "stream",
     "text": [
      "\n",
      "Types of data after conversion:\n",
      " Address         object\n",
      "Location        object\n",
      "Price            int64\n",
      "Boolis_price     int64\n",
      "Description     object\n",
      "Floor           object\n",
      "Features        object\n",
      "Year_built      object\n",
      "dtype: object\n"
     ]
    }
   ],
   "source": [
    "print(\"\\nTypes of data after conversion:\\n\", booli_df.dtypes)\n"
   ]
  },
  {
   "cell_type": "code",
   "execution_count": 174,
   "id": "a68884fd",
   "metadata": {},
   "outputs": [
    {
     "data": {
      "text/plain": [
       "(11843, 8)"
      ]
     },
     "execution_count": 174,
     "metadata": {},
     "output_type": "execute_result"
    }
   ],
   "source": [
    "filtered_df=booli_df[booli_df['Floor'].str.len() <= 3]\n",
    "filtered_df.shape"
   ]
  },
  {
   "cell_type": "code",
   "execution_count": 175,
   "id": "781c6591",
   "metadata": {},
   "outputs": [
    {
     "data": {
      "text/plain": [
       "Floor\n",
       "1.0    3089\n",
       "2.0    2866\n",
       "3.0    2345\n",
       "4.0    1262\n",
       "5.0     815\n",
       "6.0     496\n",
       "7.0     285\n",
       "nan     259\n",
       "8.0     187\n",
       "0.0     137\n",
       "9.0     102\n",
       "Name: count, dtype: int64"
      ]
     },
     "execution_count": 175,
     "metadata": {},
     "output_type": "execute_result"
    }
   ],
   "source": [
    "filtered_df['Floor'].value_counts()"
   ]
  },
  {
   "cell_type": "code",
   "execution_count": 176,
   "id": "95cdba08",
   "metadata": {},
   "outputs": [
    {
     "data": {
      "text/plain": [
       "(11584, 8)"
      ]
     },
     "execution_count": 176,
     "metadata": {},
     "output_type": "execute_result"
    }
   ],
   "source": [
    "filtered_df=filtered_df[filtered_df['Floor']!='nan']\n",
    "filtered_df.shape"
   ]
  },
  {
   "cell_type": "code",
   "execution_count": 177,
   "id": "c4217b67",
   "metadata": {},
   "outputs": [],
   "source": [
    "filtered_df['Floor']=filtered_df['Floor'].astype(float)"
   ]
  },
  {
   "cell_type": "markdown",
   "id": "76d2c468",
   "metadata": {},
   "source": [
    "### Feature Extraction"
   ]
  },
  {
   "cell_type": "code",
   "execution_count": 178,
   "id": "f01dd43c",
   "metadata": {},
   "outputs": [],
   "source": [
    "def add_feature_columns(df):\n",
    "    \"\"\"Adds new columns based on the 'Feature' column.\"\"\"\n",
    "    def check_feature(feature, keyword):\n",
    "        return keyword in feature\n",
    "\n",
    "    features = ['Balcony', 'Patio', 'Elevator']\n",
    "    keywords = ['Balkong', 'Uteplats', 'Hiss']\n",
    "    for feature, keyword in zip(features, keywords):\n",
    "        df[feature] = df['Features'].apply(lambda x: check_feature(x, keyword))\n",
    "    return df"
   ]
  },
  {
   "cell_type": "code",
   "execution_count": 179,
   "id": "e3691c73",
   "metadata": {},
   "outputs": [
    {
     "data": {
      "text/plain": [
       "Index(['Address', 'Location', 'Price', 'Boolis_price', 'Description', 'Floor',\n",
       "       'Features', 'Year_built', 'Balcony', 'Patio', 'Elevator'],\n",
       "      dtype='object')"
      ]
     },
     "execution_count": 179,
     "metadata": {},
     "output_type": "execute_result"
    }
   ],
   "source": [
    "filtered_df=add_feature_columns(filtered_df)\n",
    "filtered_df.columns"
   ]
  },
  {
   "cell_type": "code",
   "execution_count": 180,
   "id": "a5e39f6a",
   "metadata": {},
   "outputs": [
    {
     "data": {
      "text/html": [
       "<div>\n",
       "<style scoped>\n",
       "    .dataframe tbody tr th:only-of-type {\n",
       "        vertical-align: middle;\n",
       "    }\n",
       "\n",
       "    .dataframe tbody tr th {\n",
       "        vertical-align: top;\n",
       "    }\n",
       "\n",
       "    .dataframe thead th {\n",
       "        text-align: right;\n",
       "    }\n",
       "</style>\n",
       "<table border=\"1\" class=\"dataframe\">\n",
       "  <thead>\n",
       "    <tr style=\"text-align: right;\">\n",
       "      <th></th>\n",
       "      <th>Address</th>\n",
       "      <th>Location</th>\n",
       "      <th>Price</th>\n",
       "      <th>Boolis_price</th>\n",
       "      <th>Description</th>\n",
       "      <th>Floor</th>\n",
       "      <th>Features</th>\n",
       "      <th>Year_built</th>\n",
       "      <th>Balcony</th>\n",
       "      <th>Patio</th>\n",
       "      <th>Elevator</th>\n",
       "    </tr>\n",
       "  </thead>\n",
       "  <tbody>\n",
       "    <tr>\n",
       "      <th>0</th>\n",
       "      <td>Lindvägen 4G</td>\n",
       "      <td>Norrviken,Sollentuna</td>\n",
       "      <td>1895000</td>\n",
       "      <td>1960000</td>\n",
       "      <td>Boarea34 m²Rum1 rumAvgift2 613 kr/månByggår2017</td>\n",
       "      <td>1.00</td>\n",
       "      <td>Uteplats</td>\n",
       "      <td>2017</td>\n",
       "      <td>False</td>\n",
       "      <td>True</td>\n",
       "      <td>False</td>\n",
       "    </tr>\n",
       "    <tr>\n",
       "      <th>1</th>\n",
       "      <td>Idunslingan 29</td>\n",
       "      <td>Skälby,Järfälla</td>\n",
       "      <td>3495000</td>\n",
       "      <td>3600000</td>\n",
       "      <td>Boarea75 m²Rum3 rumAvgift4 139 kr/månByggår2023</td>\n",
       "      <td>4.00</td>\n",
       "      <td>HissBalkong</td>\n",
       "      <td>1302</td>\n",
       "      <td>True</td>\n",
       "      <td>False</td>\n",
       "      <td>True</td>\n",
       "    </tr>\n",
       "    <tr>\n",
       "      <th>2</th>\n",
       "      <td>Viksängsvägen 26</td>\n",
       "      <td>Östertälje,Södertälje</td>\n",
       "      <td>3450000</td>\n",
       "      <td>2790000</td>\n",
       "      <td>Boarea111 m²Rum4 rum</td>\n",
       "      <td>0.00</td>\n",
       "      <td>n/a</td>\n",
       "      <td>Förväntat slutpris</td>\n",
       "      <td>False</td>\n",
       "      <td>False</td>\n",
       "      <td>False</td>\n",
       "    </tr>\n",
       "    <tr>\n",
       "      <th>3</th>\n",
       "      <td>Knypplerskevägen 12</td>\n",
       "      <td>Bromma,Stockholm</td>\n",
       "      <td>2250000</td>\n",
       "      <td>2440000</td>\n",
       "      <td>Boarea42 m²Rum2 rumAvgift3 937 kr/månByggår1942</td>\n",
       "      <td>2.00</td>\n",
       "      <td>n/a</td>\n",
       "      <td>1942</td>\n",
       "      <td>False</td>\n",
       "      <td>False</td>\n",
       "      <td>False</td>\n",
       "    </tr>\n",
       "    <tr>\n",
       "      <th>4</th>\n",
       "      <td>Nysättravägen 19</td>\n",
       "      <td>Brunnsäng,Södertälje</td>\n",
       "      <td>1850000</td>\n",
       "      <td>1810000</td>\n",
       "      <td>Boarea78½ m²Rum3 rumAvgift5 658 kr/mån</td>\n",
       "      <td>9.00</td>\n",
       "      <td>HissBalkong</td>\n",
       "      <td>3</td>\n",
       "      <td>True</td>\n",
       "      <td>False</td>\n",
       "      <td>True</td>\n",
       "    </tr>\n",
       "  </tbody>\n",
       "</table>\n",
       "</div>"
      ],
      "text/plain": [
       "               Address               Location    Price  Boolis_price  \\\n",
       "0         Lindvägen 4G   Norrviken,Sollentuna  1895000       1960000   \n",
       "1       Idunslingan 29        Skälby,Järfälla  3495000       3600000   \n",
       "2     Viksängsvägen 26  Östertälje,Södertälje  3450000       2790000   \n",
       "3  Knypplerskevägen 12       Bromma,Stockholm  2250000       2440000   \n",
       "4     Nysättravägen 19   Brunnsäng,Södertälje  1850000       1810000   \n",
       "\n",
       "                                       Description  Floor     Features  \\\n",
       "0  Boarea34 m²Rum1 rumAvgift2 613 kr/månByggår2017   1.00     Uteplats   \n",
       "1  Boarea75 m²Rum3 rumAvgift4 139 kr/månByggår2023   4.00  HissBalkong   \n",
       "2                             Boarea111 m²Rum4 rum   0.00          n/a   \n",
       "3  Boarea42 m²Rum2 rumAvgift3 937 kr/månByggår1942   2.00          n/a   \n",
       "4           Boarea78½ m²Rum3 rumAvgift5 658 kr/mån   9.00  HissBalkong   \n",
       "\n",
       "           Year_built  Balcony  Patio  Elevator  \n",
       "0                2017    False   True     False  \n",
       "1                1302     True  False      True  \n",
       "2  Förväntat slutpris    False  False     False  \n",
       "3                1942    False  False     False  \n",
       "4                   3     True  False      True  "
      ]
     },
     "execution_count": 180,
     "metadata": {},
     "output_type": "execute_result"
    }
   ],
   "source": [
    "filtered_df.head()"
   ]
  },
  {
   "cell_type": "code",
   "execution_count": 181,
   "id": "1655d695",
   "metadata": {},
   "outputs": [
    {
     "name": "stdout",
     "output_type": "stream",
     "text": [
      "       Balcony  Patio  Elevator\n",
      "False     0.30   0.94      0.35\n",
      "True      0.70   0.06      0.65\n"
     ]
    }
   ],
   "source": [
    "print(filtered_df[['Balcony', 'Patio', 'Elevator']].apply(pd.Series.value_counts, normalize=True))"
   ]
  },
  {
   "cell_type": "code",
   "execution_count": 182,
   "id": "de39146e",
   "metadata": {},
   "outputs": [],
   "source": [
    "# Define regular expressions for each field\n",
    "boarea_regex = r'Boarea(\\d+½?\\s?m²?)'\n",
    "rum_regex = r'Rum(\\d+½?|\\d+)\\s?rum?'\n",
    "avgift_regex = r'Avgift([\\d\\s½]+kr/mån)?'\n",
    "byggar_regex = r'Byggår(\\d{4})?'\n",
    "\n",
    "# Extract the fields using the defined regular expressions\n",
    "filtered_df['Boarea'] =filtered_df['Description'].str.extract(boarea_regex, expand=False)\n",
    "filtered_df['Rum'] = filtered_df['Description'].str.extract(rum_regex, expand=False)\n",
    "filtered_df['Avgift'] = filtered_df['Description'].str.extract(avgift_regex, expand=False)\n",
    "filtered_df['Byggår'] = filtered_df['Description'].str.extract(byggar_regex, expand=False)"
   ]
  },
  {
   "cell_type": "markdown",
   "id": "f320e295",
   "metadata": {},
   "source": [
    "Change datatypes of the newly created columns "
   ]
  },
  {
   "cell_type": "code",
   "execution_count": 183,
   "id": "2ca32611",
   "metadata": {},
   "outputs": [],
   "source": [
    "filtered_df['Boarea']=filtered_df['Boarea'].str.replace('\\xa0m²','')"
   ]
  },
  {
   "cell_type": "code",
   "execution_count": 184,
   "id": "f558a660",
   "metadata": {},
   "outputs": [],
   "source": [
    "def convert_fractions_to_decimals(s):\n",
    "    s = re.sub(r'½', '.5', s)\n",
    "    s = re.sub(r'⅓', '.33', s)\n",
    "    s = re.sub(r'¼', '.25', s)\n",
    "    # Add more substitutions if needed\n",
    "    return s\n",
    "\n",
    "# Apply the function to each column\n",
    "filtered_df['Boarea'] = filtered_df['Boarea'].apply(lambda x: convert_fractions_to_decimals(x) if pd.notnull(x) else x)\n",
    "filtered_df['Rum'] = filtered_df['Rum'].apply(lambda x: convert_fractions_to_decimals(x) if pd.notnull(x) else x)\n",
    "filtered_df['Avgift'] = filtered_df['Avgift'].apply(lambda x: convert_fractions_to_decimals(x) if pd.notnull(x) else x)"
   ]
  },
  {
   "cell_type": "code",
   "execution_count": 185,
   "id": "0225a009",
   "metadata": {},
   "outputs": [],
   "source": [
    "filtered_df['Boarea']= filtered_df['Boarea'].astype(float)"
   ]
  },
  {
   "cell_type": "code",
   "execution_count": 186,
   "id": "29bf38c0",
   "metadata": {},
   "outputs": [],
   "source": [
    "filtered_df['Rum']= filtered_df['Rum'].astype(float)"
   ]
  },
  {
   "cell_type": "code",
   "execution_count": 187,
   "id": "3af24779",
   "metadata": {},
   "outputs": [],
   "source": [
    "filtered_df['Avgift']=filtered_df['Avgift'].str.replace('\\xa0kr/mån','')"
   ]
  },
  {
   "cell_type": "code",
   "execution_count": 188,
   "id": "bd36b3c8",
   "metadata": {},
   "outputs": [],
   "source": [
    "filtered_df['Avgift']=filtered_df['Avgift'].str.replace('\\xa0','')"
   ]
  },
  {
   "cell_type": "code",
   "execution_count": 189,
   "id": "d8f5d288",
   "metadata": {},
   "outputs": [],
   "source": [
    "filtered_df['Avgift']= filtered_df['Avgift'].astype(float)"
   ]
  },
  {
   "cell_type": "markdown",
   "id": "71a09030",
   "metadata": {},
   "source": [
    "### Price/m² "
   ]
  },
  {
   "cell_type": "markdown",
   "id": "15c546e2",
   "metadata": {},
   "source": [
    "Let's now create a new column based on the price and Boarea column"
   ]
  },
  {
   "cell_type": "code",
   "execution_count": 190,
   "id": "52b09a84",
   "metadata": {},
   "outputs": [],
   "source": [
    "filtered_df['Price/m²']=filtered_df['Price']/filtered_df['Boarea'] "
   ]
  },
  {
   "cell_type": "code",
   "execution_count": 198,
   "id": "7ab5a091",
   "metadata": {},
   "outputs": [
    {
     "data": {
      "text/html": [
       "<div>\n",
       "<style scoped>\n",
       "    .dataframe tbody tr th:only-of-type {\n",
       "        vertical-align: middle;\n",
       "    }\n",
       "\n",
       "    .dataframe tbody tr th {\n",
       "        vertical-align: top;\n",
       "    }\n",
       "\n",
       "    .dataframe thead th {\n",
       "        text-align: right;\n",
       "    }\n",
       "</style>\n",
       "<table border=\"1\" class=\"dataframe\">\n",
       "  <thead>\n",
       "    <tr style=\"text-align: right;\">\n",
       "      <th></th>\n",
       "      <th>Address</th>\n",
       "      <th>Location</th>\n",
       "      <th>Price</th>\n",
       "      <th>Boolis_price</th>\n",
       "      <th>Description</th>\n",
       "      <th>Floor</th>\n",
       "      <th>Features</th>\n",
       "      <th>Year_built</th>\n",
       "      <th>Balcony</th>\n",
       "      <th>Patio</th>\n",
       "      <th>Elevator</th>\n",
       "      <th>Boarea</th>\n",
       "      <th>Rum</th>\n",
       "      <th>Avgift</th>\n",
       "      <th>Byggår</th>\n",
       "      <th>Price/m²</th>\n",
       "    </tr>\n",
       "  </thead>\n",
       "  <tbody>\n",
       "    <tr>\n",
       "      <th>11579</th>\n",
       "      <td>Bäckaskiftsvägen 74</td>\n",
       "      <td>Enskede,Stockholm</td>\n",
       "      <td>2950000</td>\n",
       "      <td>2950000</td>\n",
       "      <td>Boarea56 m²Rum2 rumByggår1951</td>\n",
       "      <td>3.00</td>\n",
       "      <td>Balkong</td>\n",
       "      <td>1951</td>\n",
       "      <td>True</td>\n",
       "      <td>False</td>\n",
       "      <td>False</td>\n",
       "      <td>56.00</td>\n",
       "      <td>2.00</td>\n",
       "      <td>NaN</td>\n",
       "      <td>1951</td>\n",
       "      <td>52678.57</td>\n",
       "    </tr>\n",
       "    <tr>\n",
       "      <th>11580</th>\n",
       "      <td>Dalgårdsvägen 53</td>\n",
       "      <td>Enskededalen,Stockholm</td>\n",
       "      <td>5900000</td>\n",
       "      <td>5900000</td>\n",
       "      <td>Boarea105½ m²Rum4 rumByggår2009</td>\n",
       "      <td>2.00</td>\n",
       "      <td>HissBalkong</td>\n",
       "      <td>2009</td>\n",
       "      <td>True</td>\n",
       "      <td>False</td>\n",
       "      <td>True</td>\n",
       "      <td>105.50</td>\n",
       "      <td>4.00</td>\n",
       "      <td>NaN</td>\n",
       "      <td>2009</td>\n",
       "      <td>55924.17</td>\n",
       "    </tr>\n",
       "    <tr>\n",
       "      <th>11581</th>\n",
       "      <td>Holmvägen 19</td>\n",
       "      <td>Norrort,Upplands Väsby</td>\n",
       "      <td>2450000</td>\n",
       "      <td>2450000</td>\n",
       "      <td>Boarea161 m²Rum6 rumByggår1968</td>\n",
       "      <td>5.00</td>\n",
       "      <td>Hiss</td>\n",
       "      <td>1968</td>\n",
       "      <td>False</td>\n",
       "      <td>False</td>\n",
       "      <td>True</td>\n",
       "      <td>161.00</td>\n",
       "      <td>6.00</td>\n",
       "      <td>NaN</td>\n",
       "      <td>1968</td>\n",
       "      <td>15217.39</td>\n",
       "    </tr>\n",
       "    <tr>\n",
       "      <th>11582</th>\n",
       "      <td>Bråvallagatan 5</td>\n",
       "      <td>Vasastan Birkastan,Stockholm</td>\n",
       "      <td>4500000</td>\n",
       "      <td>4500000</td>\n",
       "      <td>Boarea43 m²Rum1 rumAvgift2 089 kr/månByggår1927</td>\n",
       "      <td>1.00</td>\n",
       "      <td>Hiss</td>\n",
       "      <td>1927</td>\n",
       "      <td>False</td>\n",
       "      <td>False</td>\n",
       "      <td>True</td>\n",
       "      <td>43.00</td>\n",
       "      <td>1.00</td>\n",
       "      <td>2089.00</td>\n",
       "      <td>1927</td>\n",
       "      <td>104651.16</td>\n",
       "    </tr>\n",
       "    <tr>\n",
       "      <th>11583</th>\n",
       "      <td>Sveavägen 89</td>\n",
       "      <td>Vasastan,Stockholm</td>\n",
       "      <td>8950000</td>\n",
       "      <td>8950000</td>\n",
       "      <td>Boarea80 m²Rum3 rumAvgift3 200 kr/månByggår1926</td>\n",
       "      <td>2.00</td>\n",
       "      <td>HissBalkong</td>\n",
       "      <td>1926</td>\n",
       "      <td>True</td>\n",
       "      <td>False</td>\n",
       "      <td>True</td>\n",
       "      <td>80.00</td>\n",
       "      <td>3.00</td>\n",
       "      <td>3200.00</td>\n",
       "      <td>1926</td>\n",
       "      <td>111875.00</td>\n",
       "    </tr>\n",
       "  </tbody>\n",
       "</table>\n",
       "</div>"
      ],
      "text/plain": [
       "                   Address                      Location    Price  \\\n",
       "11579  Bäckaskiftsvägen 74             Enskede,Stockholm  2950000   \n",
       "11580     Dalgårdsvägen 53        Enskededalen,Stockholm  5900000   \n",
       "11581         Holmvägen 19        Norrort,Upplands Väsby  2450000   \n",
       "11582      Bråvallagatan 5  Vasastan Birkastan,Stockholm  4500000   \n",
       "11583         Sveavägen 89            Vasastan,Stockholm  8950000   \n",
       "\n",
       "       Boolis_price                                      Description  Floor  \\\n",
       "11579       2950000                    Boarea56 m²Rum2 rumByggår1951   3.00   \n",
       "11580       5900000                  Boarea105½ m²Rum4 rumByggår2009   2.00   \n",
       "11581       2450000                   Boarea161 m²Rum6 rumByggår1968   5.00   \n",
       "11582       4500000  Boarea43 m²Rum1 rumAvgift2 089 kr/månByggår1927   1.00   \n",
       "11583       8950000  Boarea80 m²Rum3 rumAvgift3 200 kr/månByggår1926   2.00   \n",
       "\n",
       "          Features Year_built  Balcony  Patio  Elevator  Boarea  Rum  Avgift  \\\n",
       "11579      Balkong       1951     True  False     False   56.00 2.00     NaN   \n",
       "11580  HissBalkong       2009     True  False      True  105.50 4.00     NaN   \n",
       "11581         Hiss       1968    False  False      True  161.00 6.00     NaN   \n",
       "11582         Hiss       1927    False  False      True   43.00 1.00 2089.00   \n",
       "11583  HissBalkong       1926     True  False      True   80.00 3.00 3200.00   \n",
       "\n",
       "      Byggår  Price/m²  \n",
       "11579   1951  52678.57  \n",
       "11580   2009  55924.17  \n",
       "11581   1968  15217.39  \n",
       "11582   1927 104651.16  \n",
       "11583   1926 111875.00  "
      ]
     },
     "execution_count": 198,
     "metadata": {},
     "output_type": "execute_result"
    }
   ],
   "source": [
    "filtered_df=filtered_df.reset_index(drop=True)\n",
    "filtered_df.tail()"
   ]
  },
  {
   "cell_type": "code",
   "execution_count": 218,
   "id": "c340d74b",
   "metadata": {},
   "outputs": [],
   "source": [
    "clean_df=filtered_df[['Address','Location','Price','Boolis_price','Floor','Balcony','Patio','Elevator','Boarea','Rum','Avgift','Price/m²']].reset_index(drop=True)"
   ]
  },
  {
   "cell_type": "code",
   "execution_count": 219,
   "id": "f586672c",
   "metadata": {},
   "outputs": [
    {
     "data": {
      "text/plain": [
       "Address           0\n",
       "Location          0\n",
       "Price             0\n",
       "Boolis_price      0\n",
       "Floor             0\n",
       "Balcony           0\n",
       "Patio             0\n",
       "Elevator          0\n",
       "Boarea            0\n",
       "Rum              90\n",
       "Avgift          580\n",
       "Price/m²          0\n",
       "dtype: int64"
      ]
     },
     "execution_count": 219,
     "metadata": {},
     "output_type": "execute_result"
    }
   ],
   "source": [
    "clean_df.isna().sum()"
   ]
  },
  {
   "cell_type": "code",
   "execution_count": 220,
   "id": "0e337efd",
   "metadata": {},
   "outputs": [
    {
     "data": {
      "text/plain": [
       "Address         0\n",
       "Location        0\n",
       "Price           0\n",
       "Boolis_price    0\n",
       "Floor           0\n",
       "Balcony         0\n",
       "Patio           0\n",
       "Elevator        0\n",
       "Boarea          0\n",
       "Rum             0\n",
       "Avgift          0\n",
       "Price/m²        0\n",
       "dtype: int64"
      ]
     },
     "execution_count": 220,
     "metadata": {},
     "output_type": "execute_result"
    }
   ],
   "source": [
    "#drop na values from Rum, and Avgift columns\n",
    "clean_df.dropna(inplace=True)\n",
    "clean_df.isna().sum()"
   ]
  },
  {
   "cell_type": "code",
   "execution_count": 221,
   "id": "401570cb",
   "metadata": {},
   "outputs": [],
   "source": [
    "clean_df=clean_df.reset_index(drop=True)"
   ]
  },
  {
   "cell_type": "code",
   "execution_count": 222,
   "id": "525a7c8a",
   "metadata": {},
   "outputs": [
    {
     "data": {
      "text/html": [
       "<div>\n",
       "<style scoped>\n",
       "    .dataframe tbody tr th:only-of-type {\n",
       "        vertical-align: middle;\n",
       "    }\n",
       "\n",
       "    .dataframe tbody tr th {\n",
       "        vertical-align: top;\n",
       "    }\n",
       "\n",
       "    .dataframe thead th {\n",
       "        text-align: right;\n",
       "    }\n",
       "</style>\n",
       "<table border=\"1\" class=\"dataframe\">\n",
       "  <thead>\n",
       "    <tr style=\"text-align: right;\">\n",
       "      <th></th>\n",
       "      <th>Address</th>\n",
       "      <th>Location</th>\n",
       "      <th>Price</th>\n",
       "      <th>Boolis_price</th>\n",
       "      <th>Floor</th>\n",
       "      <th>Balcony</th>\n",
       "      <th>Patio</th>\n",
       "      <th>Elevator</th>\n",
       "      <th>Boarea</th>\n",
       "      <th>Rum</th>\n",
       "      <th>Avgift</th>\n",
       "      <th>Price/m²</th>\n",
       "    </tr>\n",
       "  </thead>\n",
       "  <tbody>\n",
       "    <tr>\n",
       "      <th>10918</th>\n",
       "      <td>Maskinistvägen 16</td>\n",
       "      <td>Bolinder Strand,Järfälla</td>\n",
       "      <td>4230000</td>\n",
       "      <td>4230000</td>\n",
       "      <td>6.00</td>\n",
       "      <td>True</td>\n",
       "      <td>False</td>\n",
       "      <td>True</td>\n",
       "      <td>95.00</td>\n",
       "      <td>4.00</td>\n",
       "      <td>4727.00</td>\n",
       "      <td>44526.32</td>\n",
       "    </tr>\n",
       "    <tr>\n",
       "      <th>10919</th>\n",
       "      <td>Kungsklippan 12</td>\n",
       "      <td>Kungsholmen,Stockholm</td>\n",
       "      <td>4070000</td>\n",
       "      <td>4070000</td>\n",
       "      <td>4.00</td>\n",
       "      <td>True</td>\n",
       "      <td>False</td>\n",
       "      <td>True</td>\n",
       "      <td>40.00</td>\n",
       "      <td>2.00</td>\n",
       "      <td>4345.00</td>\n",
       "      <td>101750.00</td>\n",
       "    </tr>\n",
       "    <tr>\n",
       "      <th>10920</th>\n",
       "      <td>Tallidsvägen 7</td>\n",
       "      <td>Finntorp,Nacka</td>\n",
       "      <td>3995000</td>\n",
       "      <td>3340000</td>\n",
       "      <td>7.00</td>\n",
       "      <td>True</td>\n",
       "      <td>False</td>\n",
       "      <td>True</td>\n",
       "      <td>80.00</td>\n",
       "      <td>3.00</td>\n",
       "      <td>4906.00</td>\n",
       "      <td>49937.50</td>\n",
       "    </tr>\n",
       "    <tr>\n",
       "      <th>10921</th>\n",
       "      <td>Bråvallagatan 5</td>\n",
       "      <td>Vasastan Birkastan,Stockholm</td>\n",
       "      <td>4500000</td>\n",
       "      <td>4500000</td>\n",
       "      <td>1.00</td>\n",
       "      <td>False</td>\n",
       "      <td>False</td>\n",
       "      <td>True</td>\n",
       "      <td>43.00</td>\n",
       "      <td>1.00</td>\n",
       "      <td>2089.00</td>\n",
       "      <td>104651.16</td>\n",
       "    </tr>\n",
       "    <tr>\n",
       "      <th>10922</th>\n",
       "      <td>Sveavägen 89</td>\n",
       "      <td>Vasastan,Stockholm</td>\n",
       "      <td>8950000</td>\n",
       "      <td>8950000</td>\n",
       "      <td>2.00</td>\n",
       "      <td>True</td>\n",
       "      <td>False</td>\n",
       "      <td>True</td>\n",
       "      <td>80.00</td>\n",
       "      <td>3.00</td>\n",
       "      <td>3200.00</td>\n",
       "      <td>111875.00</td>\n",
       "    </tr>\n",
       "  </tbody>\n",
       "</table>\n",
       "</div>"
      ],
      "text/plain": [
       "                 Address                      Location    Price  Boolis_price  \\\n",
       "10918  Maskinistvägen 16      Bolinder Strand,Järfälla  4230000       4230000   \n",
       "10919    Kungsklippan 12         Kungsholmen,Stockholm  4070000       4070000   \n",
       "10920     Tallidsvägen 7                Finntorp,Nacka  3995000       3340000   \n",
       "10921    Bråvallagatan 5  Vasastan Birkastan,Stockholm  4500000       4500000   \n",
       "10922       Sveavägen 89            Vasastan,Stockholm  8950000       8950000   \n",
       "\n",
       "       Floor  Balcony  Patio  Elevator  Boarea  Rum  Avgift  Price/m²  \n",
       "10918   6.00     True  False      True   95.00 4.00 4727.00  44526.32  \n",
       "10919   4.00     True  False      True   40.00 2.00 4345.00 101750.00  \n",
       "10920   7.00     True  False      True   80.00 3.00 4906.00  49937.50  \n",
       "10921   1.00    False  False      True   43.00 1.00 2089.00 104651.16  \n",
       "10922   2.00     True  False      True   80.00 3.00 3200.00 111875.00  "
      ]
     },
     "execution_count": 222,
     "metadata": {},
     "output_type": "execute_result"
    }
   ],
   "source": [
    "clean_df.tail()"
   ]
  },
  {
   "cell_type": "markdown",
   "id": "2f412c7a",
   "metadata": {},
   "source": [
    "### Location"
   ]
  },
  {
   "cell_type": "markdown",
   "id": "776cf67d",
   "metadata": {},
   "source": [
    "Create Two new columns based on the 'Location' column"
   ]
  },
  {
   "cell_type": "code",
   "execution_count": 229,
   "id": "172d381c",
   "metadata": {},
   "outputs": [],
   "source": [
    "#There are 54 records with out district but only municpality\n",
    "clean_df=clean_df[clean_df['Location'].str.contains(',')]\n",
    "clean_df=clean_df.reset_index(drop=True)"
   ]
  },
  {
   "cell_type": "code",
   "execution_count": 230,
   "id": "4c300e72",
   "metadata": {},
   "outputs": [],
   "source": [
    "#In this case, we will repeat the municipality column in to district column\n",
    "def split_location(location):\n",
    "    parts=location.split(',')\n",
    "    district=parts[0]\n",
    "    municipality=parts[1]\n",
    "    return pd.Series([district,municipality])\n",
    "\n",
    "# Apply the function to create new columns\n",
    "clean_df[['District', 'Municipality']] = clean_df['Location'].apply(split_location)"
   ]
  },
  {
   "cell_type": "code",
   "execution_count": 232,
   "id": "f75f72a1",
   "metadata": {},
   "outputs": [
    {
     "data": {
      "text/html": [
       "<div>\n",
       "<style scoped>\n",
       "    .dataframe tbody tr th:only-of-type {\n",
       "        vertical-align: middle;\n",
       "    }\n",
       "\n",
       "    .dataframe tbody tr th {\n",
       "        vertical-align: top;\n",
       "    }\n",
       "\n",
       "    .dataframe thead th {\n",
       "        text-align: right;\n",
       "    }\n",
       "</style>\n",
       "<table border=\"1\" class=\"dataframe\">\n",
       "  <thead>\n",
       "    <tr style=\"text-align: right;\">\n",
       "      <th></th>\n",
       "      <th>Address</th>\n",
       "      <th>Location</th>\n",
       "      <th>Price</th>\n",
       "      <th>Boolis_price</th>\n",
       "      <th>Floor</th>\n",
       "      <th>Balcony</th>\n",
       "      <th>Patio</th>\n",
       "      <th>Elevator</th>\n",
       "      <th>Boarea</th>\n",
       "      <th>Rum</th>\n",
       "      <th>Avgift</th>\n",
       "      <th>Price/m²</th>\n",
       "      <th>District</th>\n",
       "      <th>Municipality</th>\n",
       "    </tr>\n",
       "  </thead>\n",
       "  <tbody>\n",
       "    <tr>\n",
       "      <th>10864</th>\n",
       "      <td>Maskinistvägen 16</td>\n",
       "      <td>Bolinder Strand,Järfälla</td>\n",
       "      <td>4230000</td>\n",
       "      <td>4230000</td>\n",
       "      <td>6.00</td>\n",
       "      <td>True</td>\n",
       "      <td>False</td>\n",
       "      <td>True</td>\n",
       "      <td>95.00</td>\n",
       "      <td>4.00</td>\n",
       "      <td>4727.00</td>\n",
       "      <td>44526.32</td>\n",
       "      <td>Bolinder Strand</td>\n",
       "      <td>Järfälla</td>\n",
       "    </tr>\n",
       "    <tr>\n",
       "      <th>10865</th>\n",
       "      <td>Kungsklippan 12</td>\n",
       "      <td>Kungsholmen,Stockholm</td>\n",
       "      <td>4070000</td>\n",
       "      <td>4070000</td>\n",
       "      <td>4.00</td>\n",
       "      <td>True</td>\n",
       "      <td>False</td>\n",
       "      <td>True</td>\n",
       "      <td>40.00</td>\n",
       "      <td>2.00</td>\n",
       "      <td>4345.00</td>\n",
       "      <td>101750.00</td>\n",
       "      <td>Kungsholmen</td>\n",
       "      <td>Stockholm</td>\n",
       "    </tr>\n",
       "    <tr>\n",
       "      <th>10866</th>\n",
       "      <td>Tallidsvägen 7</td>\n",
       "      <td>Finntorp,Nacka</td>\n",
       "      <td>3995000</td>\n",
       "      <td>3340000</td>\n",
       "      <td>7.00</td>\n",
       "      <td>True</td>\n",
       "      <td>False</td>\n",
       "      <td>True</td>\n",
       "      <td>80.00</td>\n",
       "      <td>3.00</td>\n",
       "      <td>4906.00</td>\n",
       "      <td>49937.50</td>\n",
       "      <td>Finntorp</td>\n",
       "      <td>Nacka</td>\n",
       "    </tr>\n",
       "    <tr>\n",
       "      <th>10867</th>\n",
       "      <td>Bråvallagatan 5</td>\n",
       "      <td>Vasastan Birkastan,Stockholm</td>\n",
       "      <td>4500000</td>\n",
       "      <td>4500000</td>\n",
       "      <td>1.00</td>\n",
       "      <td>False</td>\n",
       "      <td>False</td>\n",
       "      <td>True</td>\n",
       "      <td>43.00</td>\n",
       "      <td>1.00</td>\n",
       "      <td>2089.00</td>\n",
       "      <td>104651.16</td>\n",
       "      <td>Vasastan Birkastan</td>\n",
       "      <td>Stockholm</td>\n",
       "    </tr>\n",
       "    <tr>\n",
       "      <th>10868</th>\n",
       "      <td>Sveavägen 89</td>\n",
       "      <td>Vasastan,Stockholm</td>\n",
       "      <td>8950000</td>\n",
       "      <td>8950000</td>\n",
       "      <td>2.00</td>\n",
       "      <td>True</td>\n",
       "      <td>False</td>\n",
       "      <td>True</td>\n",
       "      <td>80.00</td>\n",
       "      <td>3.00</td>\n",
       "      <td>3200.00</td>\n",
       "      <td>111875.00</td>\n",
       "      <td>Vasastan</td>\n",
       "      <td>Stockholm</td>\n",
       "    </tr>\n",
       "  </tbody>\n",
       "</table>\n",
       "</div>"
      ],
      "text/plain": [
       "                 Address                      Location    Price  Boolis_price  \\\n",
       "10864  Maskinistvägen 16      Bolinder Strand,Järfälla  4230000       4230000   \n",
       "10865    Kungsklippan 12         Kungsholmen,Stockholm  4070000       4070000   \n",
       "10866     Tallidsvägen 7                Finntorp,Nacka  3995000       3340000   \n",
       "10867    Bråvallagatan 5  Vasastan Birkastan,Stockholm  4500000       4500000   \n",
       "10868       Sveavägen 89            Vasastan,Stockholm  8950000       8950000   \n",
       "\n",
       "       Floor  Balcony  Patio  Elevator  Boarea  Rum  Avgift  Price/m²  \\\n",
       "10864   6.00     True  False      True   95.00 4.00 4727.00  44526.32   \n",
       "10865   4.00     True  False      True   40.00 2.00 4345.00 101750.00   \n",
       "10866   7.00     True  False      True   80.00 3.00 4906.00  49937.50   \n",
       "10867   1.00    False  False      True   43.00 1.00 2089.00 104651.16   \n",
       "10868   2.00     True  False      True   80.00 3.00 3200.00 111875.00   \n",
       "\n",
       "                 District Municipality  \n",
       "10864     Bolinder Strand     Järfälla  \n",
       "10865         Kungsholmen    Stockholm  \n",
       "10866            Finntorp        Nacka  \n",
       "10867  Vasastan Birkastan    Stockholm  \n",
       "10868            Vasastan    Stockholm  "
      ]
     },
     "execution_count": 232,
     "metadata": {},
     "output_type": "execute_result"
    }
   ],
   "source": [
    "clean_df.tail()"
   ]
  },
  {
   "cell_type": "markdown",
   "id": "ed778351",
   "metadata": {},
   "source": [
    "##### Change Column names "
   ]
  },
  {
   "cell_type": "code",
   "execution_count": 238,
   "id": "d160f8fe",
   "metadata": {},
   "outputs": [],
   "source": [
    "#change columnnames in order to make it compatible with Hemnet data so merging becomes easy\n",
    "clean_df=clean_df.rename(columns={\n",
    "    'Boarea':'Size in m²',\n",
    "    'Rum':'Total Rooms',\n",
    "    'Avgift':'Monthly Pay',\n",
    "    'Price/m²':'Amt per m²'})"
   ]
  },
  {
   "cell_type": "code",
   "execution_count": 239,
   "id": "751c073e",
   "metadata": {},
   "outputs": [
    {
     "data": {
      "text/html": [
       "<div>\n",
       "<style scoped>\n",
       "    .dataframe tbody tr th:only-of-type {\n",
       "        vertical-align: middle;\n",
       "    }\n",
       "\n",
       "    .dataframe tbody tr th {\n",
       "        vertical-align: top;\n",
       "    }\n",
       "\n",
       "    .dataframe thead th {\n",
       "        text-align: right;\n",
       "    }\n",
       "</style>\n",
       "<table border=\"1\" class=\"dataframe\">\n",
       "  <thead>\n",
       "    <tr style=\"text-align: right;\">\n",
       "      <th></th>\n",
       "      <th>Address</th>\n",
       "      <th>Location</th>\n",
       "      <th>Price</th>\n",
       "      <th>Boolis_price</th>\n",
       "      <th>Floor</th>\n",
       "      <th>Balcony</th>\n",
       "      <th>Patio</th>\n",
       "      <th>Elevator</th>\n",
       "      <th>Size in m²</th>\n",
       "      <th>Total Rooms</th>\n",
       "      <th>Monthly Pay</th>\n",
       "      <th>Amt per m²</th>\n",
       "      <th>District</th>\n",
       "      <th>Municipality</th>\n",
       "    </tr>\n",
       "  </thead>\n",
       "  <tbody>\n",
       "    <tr>\n",
       "      <th>0</th>\n",
       "      <td>Lindvägen 4G</td>\n",
       "      <td>Norrviken,Sollentuna</td>\n",
       "      <td>1895000</td>\n",
       "      <td>1960000</td>\n",
       "      <td>1.00</td>\n",
       "      <td>False</td>\n",
       "      <td>True</td>\n",
       "      <td>False</td>\n",
       "      <td>34.00</td>\n",
       "      <td>1.00</td>\n",
       "      <td>2613.00</td>\n",
       "      <td>55735.29</td>\n",
       "      <td>Norrviken</td>\n",
       "      <td>Sollentuna</td>\n",
       "    </tr>\n",
       "    <tr>\n",
       "      <th>1</th>\n",
       "      <td>Idunslingan 29</td>\n",
       "      <td>Skälby,Järfälla</td>\n",
       "      <td>3495000</td>\n",
       "      <td>3600000</td>\n",
       "      <td>4.00</td>\n",
       "      <td>True</td>\n",
       "      <td>False</td>\n",
       "      <td>True</td>\n",
       "      <td>75.00</td>\n",
       "      <td>3.00</td>\n",
       "      <td>4139.00</td>\n",
       "      <td>46600.00</td>\n",
       "      <td>Skälby</td>\n",
       "      <td>Järfälla</td>\n",
       "    </tr>\n",
       "    <tr>\n",
       "      <th>2</th>\n",
       "      <td>Knypplerskevägen 12</td>\n",
       "      <td>Bromma,Stockholm</td>\n",
       "      <td>2250000</td>\n",
       "      <td>2440000</td>\n",
       "      <td>2.00</td>\n",
       "      <td>False</td>\n",
       "      <td>False</td>\n",
       "      <td>False</td>\n",
       "      <td>42.00</td>\n",
       "      <td>2.00</td>\n",
       "      <td>3937.00</td>\n",
       "      <td>53571.43</td>\n",
       "      <td>Bromma</td>\n",
       "      <td>Stockholm</td>\n",
       "    </tr>\n",
       "    <tr>\n",
       "      <th>3</th>\n",
       "      <td>Nysättravägen 19</td>\n",
       "      <td>Brunnsäng,Södertälje</td>\n",
       "      <td>1850000</td>\n",
       "      <td>1810000</td>\n",
       "      <td>9.00</td>\n",
       "      <td>True</td>\n",
       "      <td>False</td>\n",
       "      <td>True</td>\n",
       "      <td>78.50</td>\n",
       "      <td>3.00</td>\n",
       "      <td>5658.00</td>\n",
       "      <td>23566.88</td>\n",
       "      <td>Brunnsäng</td>\n",
       "      <td>Södertälje</td>\n",
       "    </tr>\n",
       "    <tr>\n",
       "      <th>4</th>\n",
       "      <td>Lagmansbacken 7</td>\n",
       "      <td>Alby,Botkyrka</td>\n",
       "      <td>1150000</td>\n",
       "      <td>1230000</td>\n",
       "      <td>1.00</td>\n",
       "      <td>True</td>\n",
       "      <td>False</td>\n",
       "      <td>True</td>\n",
       "      <td>30.00</td>\n",
       "      <td>1.00</td>\n",
       "      <td>2663.00</td>\n",
       "      <td>38333.33</td>\n",
       "      <td>Alby</td>\n",
       "      <td>Botkyrka</td>\n",
       "    </tr>\n",
       "    <tr>\n",
       "      <th>...</th>\n",
       "      <td>...</td>\n",
       "      <td>...</td>\n",
       "      <td>...</td>\n",
       "      <td>...</td>\n",
       "      <td>...</td>\n",
       "      <td>...</td>\n",
       "      <td>...</td>\n",
       "      <td>...</td>\n",
       "      <td>...</td>\n",
       "      <td>...</td>\n",
       "      <td>...</td>\n",
       "      <td>...</td>\n",
       "      <td>...</td>\n",
       "      <td>...</td>\n",
       "    </tr>\n",
       "    <tr>\n",
       "      <th>10864</th>\n",
       "      <td>Maskinistvägen 16</td>\n",
       "      <td>Bolinder Strand,Järfälla</td>\n",
       "      <td>4230000</td>\n",
       "      <td>4230000</td>\n",
       "      <td>6.00</td>\n",
       "      <td>True</td>\n",
       "      <td>False</td>\n",
       "      <td>True</td>\n",
       "      <td>95.00</td>\n",
       "      <td>4.00</td>\n",
       "      <td>4727.00</td>\n",
       "      <td>44526.32</td>\n",
       "      <td>Bolinder Strand</td>\n",
       "      <td>Järfälla</td>\n",
       "    </tr>\n",
       "    <tr>\n",
       "      <th>10865</th>\n",
       "      <td>Kungsklippan 12</td>\n",
       "      <td>Kungsholmen,Stockholm</td>\n",
       "      <td>4070000</td>\n",
       "      <td>4070000</td>\n",
       "      <td>4.00</td>\n",
       "      <td>True</td>\n",
       "      <td>False</td>\n",
       "      <td>True</td>\n",
       "      <td>40.00</td>\n",
       "      <td>2.00</td>\n",
       "      <td>4345.00</td>\n",
       "      <td>101750.00</td>\n",
       "      <td>Kungsholmen</td>\n",
       "      <td>Stockholm</td>\n",
       "    </tr>\n",
       "    <tr>\n",
       "      <th>10866</th>\n",
       "      <td>Tallidsvägen 7</td>\n",
       "      <td>Finntorp,Nacka</td>\n",
       "      <td>3995000</td>\n",
       "      <td>3340000</td>\n",
       "      <td>7.00</td>\n",
       "      <td>True</td>\n",
       "      <td>False</td>\n",
       "      <td>True</td>\n",
       "      <td>80.00</td>\n",
       "      <td>3.00</td>\n",
       "      <td>4906.00</td>\n",
       "      <td>49937.50</td>\n",
       "      <td>Finntorp</td>\n",
       "      <td>Nacka</td>\n",
       "    </tr>\n",
       "    <tr>\n",
       "      <th>10867</th>\n",
       "      <td>Bråvallagatan 5</td>\n",
       "      <td>Vasastan Birkastan,Stockholm</td>\n",
       "      <td>4500000</td>\n",
       "      <td>4500000</td>\n",
       "      <td>1.00</td>\n",
       "      <td>False</td>\n",
       "      <td>False</td>\n",
       "      <td>True</td>\n",
       "      <td>43.00</td>\n",
       "      <td>1.00</td>\n",
       "      <td>2089.00</td>\n",
       "      <td>104651.16</td>\n",
       "      <td>Vasastan Birkastan</td>\n",
       "      <td>Stockholm</td>\n",
       "    </tr>\n",
       "    <tr>\n",
       "      <th>10868</th>\n",
       "      <td>Sveavägen 89</td>\n",
       "      <td>Vasastan,Stockholm</td>\n",
       "      <td>8950000</td>\n",
       "      <td>8950000</td>\n",
       "      <td>2.00</td>\n",
       "      <td>True</td>\n",
       "      <td>False</td>\n",
       "      <td>True</td>\n",
       "      <td>80.00</td>\n",
       "      <td>3.00</td>\n",
       "      <td>3200.00</td>\n",
       "      <td>111875.00</td>\n",
       "      <td>Vasastan</td>\n",
       "      <td>Stockholm</td>\n",
       "    </tr>\n",
       "  </tbody>\n",
       "</table>\n",
       "<p>10869 rows × 14 columns</p>\n",
       "</div>"
      ],
      "text/plain": [
       "                   Address                      Location    Price  \\\n",
       "0             Lindvägen 4G          Norrviken,Sollentuna  1895000   \n",
       "1           Idunslingan 29               Skälby,Järfälla  3495000   \n",
       "2      Knypplerskevägen 12              Bromma,Stockholm  2250000   \n",
       "3         Nysättravägen 19          Brunnsäng,Södertälje  1850000   \n",
       "4          Lagmansbacken 7                 Alby,Botkyrka  1150000   \n",
       "...                    ...                           ...      ...   \n",
       "10864    Maskinistvägen 16      Bolinder Strand,Järfälla  4230000   \n",
       "10865      Kungsklippan 12         Kungsholmen,Stockholm  4070000   \n",
       "10866       Tallidsvägen 7                Finntorp,Nacka  3995000   \n",
       "10867      Bråvallagatan 5  Vasastan Birkastan,Stockholm  4500000   \n",
       "10868         Sveavägen 89            Vasastan,Stockholm  8950000   \n",
       "\n",
       "       Boolis_price  Floor  Balcony  Patio  Elevator  Size in m²  Total Rooms  \\\n",
       "0           1960000   1.00    False   True     False       34.00         1.00   \n",
       "1           3600000   4.00     True  False      True       75.00         3.00   \n",
       "2           2440000   2.00    False  False     False       42.00         2.00   \n",
       "3           1810000   9.00     True  False      True       78.50         3.00   \n",
       "4           1230000   1.00     True  False      True       30.00         1.00   \n",
       "...             ...    ...      ...    ...       ...         ...          ...   \n",
       "10864       4230000   6.00     True  False      True       95.00         4.00   \n",
       "10865       4070000   4.00     True  False      True       40.00         2.00   \n",
       "10866       3340000   7.00     True  False      True       80.00         3.00   \n",
       "10867       4500000   1.00    False  False      True       43.00         1.00   \n",
       "10868       8950000   2.00     True  False      True       80.00         3.00   \n",
       "\n",
       "       Monthly Pay  Amt per m²            District Municipality  \n",
       "0          2613.00    55735.29           Norrviken   Sollentuna  \n",
       "1          4139.00    46600.00              Skälby     Järfälla  \n",
       "2          3937.00    53571.43              Bromma    Stockholm  \n",
       "3          5658.00    23566.88           Brunnsäng   Södertälje  \n",
       "4          2663.00    38333.33                Alby     Botkyrka  \n",
       "...            ...         ...                 ...          ...  \n",
       "10864      4727.00    44526.32     Bolinder Strand     Järfälla  \n",
       "10865      4345.00   101750.00         Kungsholmen    Stockholm  \n",
       "10866      4906.00    49937.50            Finntorp        Nacka  \n",
       "10867      2089.00   104651.16  Vasastan Birkastan    Stockholm  \n",
       "10868      3200.00   111875.00            Vasastan    Stockholm  \n",
       "\n",
       "[10869 rows x 14 columns]"
      ]
     },
     "execution_count": 239,
     "metadata": {},
     "output_type": "execute_result"
    }
   ],
   "source": [
    "clean_df"
   ]
  },
  {
   "cell_type": "markdown",
   "id": "e3b93fa8",
   "metadata": {},
   "source": [
    "#### Checking for Outliers"
   ]
  },
  {
   "cell_type": "markdown",
   "id": "7434e3f1",
   "metadata": {},
   "source": [
    "We can check for possible outliers in the dataframe by looking at the summary statistics or visually using boxplots"
   ]
  },
  {
   "cell_type": "code",
   "execution_count": 240,
   "id": "06814dc0",
   "metadata": {},
   "outputs": [
    {
     "data": {
      "text/html": [
       "<div>\n",
       "<style scoped>\n",
       "    .dataframe tbody tr th:only-of-type {\n",
       "        vertical-align: middle;\n",
       "    }\n",
       "\n",
       "    .dataframe tbody tr th {\n",
       "        vertical-align: top;\n",
       "    }\n",
       "\n",
       "    .dataframe thead th {\n",
       "        text-align: right;\n",
       "    }\n",
       "</style>\n",
       "<table border=\"1\" class=\"dataframe\">\n",
       "  <thead>\n",
       "    <tr style=\"text-align: right;\">\n",
       "      <th></th>\n",
       "      <th>Price</th>\n",
       "      <th>Boolis_price</th>\n",
       "      <th>Floor</th>\n",
       "      <th>Size in m²</th>\n",
       "      <th>Total Rooms</th>\n",
       "      <th>Monthly Pay</th>\n",
       "      <th>Amt per m²</th>\n",
       "    </tr>\n",
       "  </thead>\n",
       "  <tbody>\n",
       "    <tr>\n",
       "      <th>count</th>\n",
       "      <td>10869.00</td>\n",
       "      <td>10869.00</td>\n",
       "      <td>10869.00</td>\n",
       "      <td>10869.00</td>\n",
       "      <td>10869.00</td>\n",
       "      <td>10869.00</td>\n",
       "      <td>10869.00</td>\n",
       "    </tr>\n",
       "    <tr>\n",
       "      <th>mean</th>\n",
       "      <td>3701201.76</td>\n",
       "      <td>3723572.55</td>\n",
       "      <td>2.77</td>\n",
       "      <td>62.82</td>\n",
       "      <td>2.48</td>\n",
       "      <td>4182.78</td>\n",
       "      <td>61245.06</td>\n",
       "    </tr>\n",
       "    <tr>\n",
       "      <th>std</th>\n",
       "      <td>2412530.50</td>\n",
       "      <td>2398056.71</td>\n",
       "      <td>1.78</td>\n",
       "      <td>24.69</td>\n",
       "      <td>1.00</td>\n",
       "      <td>1613.40</td>\n",
       "      <td>28166.90</td>\n",
       "    </tr>\n",
       "    <tr>\n",
       "      <th>min</th>\n",
       "      <td>495000.00</td>\n",
       "      <td>470000.00</td>\n",
       "      <td>0.00</td>\n",
       "      <td>14.00</td>\n",
       "      <td>1.00</td>\n",
       "      <td>366.00</td>\n",
       "      <td>9083.97</td>\n",
       "    </tr>\n",
       "    <tr>\n",
       "      <th>25%</th>\n",
       "      <td>2195000.00</td>\n",
       "      <td>2240000.00</td>\n",
       "      <td>1.00</td>\n",
       "      <td>44.00</td>\n",
       "      <td>2.00</td>\n",
       "      <td>3022.00</td>\n",
       "      <td>38868.78</td>\n",
       "    </tr>\n",
       "    <tr>\n",
       "      <th>50%</th>\n",
       "      <td>3050000.00</td>\n",
       "      <td>3100000.00</td>\n",
       "      <td>2.00</td>\n",
       "      <td>60.50</td>\n",
       "      <td>2.00</td>\n",
       "      <td>4022.00</td>\n",
       "      <td>56222.22</td>\n",
       "    </tr>\n",
       "    <tr>\n",
       "      <th>75%</th>\n",
       "      <td>4380000.00</td>\n",
       "      <td>4400000.00</td>\n",
       "      <td>4.00</td>\n",
       "      <td>78.50</td>\n",
       "      <td>3.00</td>\n",
       "      <td>5173.00</td>\n",
       "      <td>77258.06</td>\n",
       "    </tr>\n",
       "    <tr>\n",
       "      <th>max</th>\n",
       "      <td>56700000.00</td>\n",
       "      <td>56700000.00</td>\n",
       "      <td>9.00</td>\n",
       "      <td>502.00</td>\n",
       "      <td>10.00</td>\n",
       "      <td>22305.00</td>\n",
       "      <td>191588.79</td>\n",
       "    </tr>\n",
       "  </tbody>\n",
       "</table>\n",
       "</div>"
      ],
      "text/plain": [
       "            Price  Boolis_price    Floor  Size in m²  Total Rooms  \\\n",
       "count    10869.00      10869.00 10869.00    10869.00     10869.00   \n",
       "mean   3701201.76    3723572.55     2.77       62.82         2.48   \n",
       "std    2412530.50    2398056.71     1.78       24.69         1.00   \n",
       "min     495000.00     470000.00     0.00       14.00         1.00   \n",
       "25%    2195000.00    2240000.00     1.00       44.00         2.00   \n",
       "50%    3050000.00    3100000.00     2.00       60.50         2.00   \n",
       "75%    4380000.00    4400000.00     4.00       78.50         3.00   \n",
       "max   56700000.00   56700000.00     9.00      502.00        10.00   \n",
       "\n",
       "       Monthly Pay  Amt per m²  \n",
       "count     10869.00    10869.00  \n",
       "mean       4182.78    61245.06  \n",
       "std        1613.40    28166.90  \n",
       "min         366.00     9083.97  \n",
       "25%        3022.00    38868.78  \n",
       "50%        4022.00    56222.22  \n",
       "75%        5173.00    77258.06  \n",
       "max       22305.00   191588.79  "
      ]
     },
     "execution_count": 240,
     "metadata": {},
     "output_type": "execute_result"
    }
   ],
   "source": [
    "clean_df.describe()"
   ]
  },
  {
   "cell_type": "markdown",
   "id": "1eae9ac5",
   "metadata": {},
   "source": [
    "Looking at the summary statistics, no value is significantly deviating from the mean/median or spread (standard deviation)."
   ]
  },
  {
   "cell_type": "markdown",
   "id": "cfa300f0",
   "metadata": {},
   "source": [
    "##### Box plots"
   ]
  },
  {
   "cell_type": "markdown",
   "id": "cb6e2e21",
   "metadata": {},
   "source": [
    "Box plots visually represent the distribution of data including outliers"
   ]
  },
  {
   "cell_type": "code",
   "execution_count": 242,
   "id": "b7674457",
   "metadata": {},
   "outputs": [
    {
     "data": {
      "image/png": "[encoded data removed]",
      "text/plain": [
       "<Figure size 1400x3500 with 7 Axes>"
      ]
     },
     "metadata": {},
     "output_type": "display_data"
    }
   ],
   "source": [
    "# Calculate the number of rows and columns for the subplots\n",
    "num_columns = len(clean_df.columns)\n",
    "num_rows = (num_columns // 2) + (num_columns % 2)\n",
    "\n",
    "# Plot box plots for all columns\n",
    "fig, axes = plt.subplots(num_rows, 2, figsize=(14, num_rows * 5))  # Increased figure size\n",
    "axes = axes.flatten()  # Flatten the axes array for easy indexing\n",
    "\n",
    "numeric_cols = clean_df.select_dtypes(include=[np.number])\n",
    "\n",
    "for i, col in enumerate(numeric_cols):\n",
    "    clean_df.boxplot(column=col, ax=axes[i])\n",
    "    axes[i].set_title(col)\n",
    "# Remove any empty subplots\n",
    "for j in range(i + 1, len(axes)):\n",
    "    fig.delaxes(axes[j])\n",
    "\n",
    "\n",
    "plt.tight_layout()\n",
    "plt.show()"
   ]
  },
  {
   "cell_type": "markdown",
   "id": "92385aed",
   "metadata": {},
   "source": [
    "##### Save the file"
   ]
  },
  {
   "cell_type": "markdown",
   "id": "807e705d",
   "metadata": {},
   "source": [
    " Save the cleaned dataset as a csv/excel file "
   ]
  },
  {
   "cell_type": "code",
   "execution_count": 243,
   "id": "6e7cf900",
   "metadata": {},
   "outputs": [],
   "source": [
    "clean_df.to_csv('booli_clean.csv',index=False)"
   ]
  },
  {
   "cell_type": "code",
   "execution_count": null,
   "id": "ba04c44c",
   "metadata": {},
   "outputs": [],
   "source": []
  }
 ],
 "metadata": {
  "kernelspec": {
   "display_name": "Python 3 (ipykernel)",
   "language": "python",
   "name": "python3"
  },
  "language_info": {
   "codemirror_mode": {
    "name": "ipython",
    "version": 3
   },
   "file_extension": ".py",
   "mimetype": "text/x-python",
   "name": "python",
   "nbconvert_exporter": "python",
   "pygments_lexer": "ipython3",
   "version": "3.11.4"
  }
 },
 "nbformat": 4,
 "nbformat_minor": 5
}
